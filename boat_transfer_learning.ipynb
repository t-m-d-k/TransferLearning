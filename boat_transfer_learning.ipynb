{
 "cells": [
  {
   "cell_type": "code",
   "execution_count": null,
   "metadata": {},
   "outputs": [],
   "source": [
    "import os\n",
    "import numpy as np\n",
    "import matplotlib.pyplot as plt\n",
    "import seaborn as sns\n",
    "from sklearn.metrics import classification_report, confusion_matrix\n",
    "import tensorflow as tf\n",
    "from tensorflow.keras.preprocessing.image import ImageDataGenerator\n",
    "from tensorflow.keras.models import Sequential\n",
    "from tensorflow.keras.layers import Conv2D, MaxPooling2D, GlobalAveragePooling2D, Dense\n",
    "from tensorflow.keras.optimizers import Adam"
   ]
  },
  {
   "cell_type": "code",
   "execution_count": null,
   "metadata": {},
   "outputs": [],
   "source": [
    "# 1.1: Split the dataset into train and test (80:20)\n",
    "train_dir = 'demo_boat'\n",
    "test_dir = 'demo_boat'\n",
    "\n",
    "# 1.2: Initialize ImageDataGenerator with normalization and validation split\n",
    "train_datagen = ImageDataGenerator(rescale=1./255, validation_split=0.2)\n",
    "test_datagen = ImageDataGenerator(rescale=1./255)\n",
    "\n",
    "# 1.4: Load train, validation, and test dataset\n",
    "train_generator = train_datagen.flow_from_directory(train_dir, target_size=(128, 128),\n",
    "                                                    batch_size=32, class_mode='categorical',\n",
    "                                                    subset='training', shuffle=True, seed=43)\n",
    "val_generator = train_datagen.flow_from_directory(train_dir, target_size=(128, 128),\n",
    "                                                  batch_size=32, class_mode='categorical',\n",
    "                                                  subset='validation', shuffle=True, seed=43)\n",
    "test_generator_tl = test_datagen_tl.flow_from_directory(test_dir, target_size=(128, 128),\n",
    "                                                        batch_size=32, class_mode='categorical',\n",
    "                                                        shuffle=False)"
   ]
  },
  {
   "cell_type": "code",
   "execution_count": null,
   "metadata": {},
   "outputs": [],
   "source": [
    "# 1.5: Build CNN model\n",
    "cnn_model = Sequential([\n",
    "    Conv2D(32, (3, 3), activation='relu', input_shape=(128, 128, 3)),\n",
    "    MaxPooling2D(pool_size=(2, 2)),\n",
    "    Conv2D(32, (3, 3), activation='relu'),\n",
    "    MaxPooling2D(pool_size=(2, 2)),\n",
    "    GlobalAveragePooling2D(),\n",
    "    Dense(128, activation='relu'),\n",
    "    Dense(128, activation='relu'),\n",
    "    Dense(3, activation='softmax')\n",
    "])\n"
   ]
  },
  {
   "cell_type": "code",
   "execution_count": null,
   "metadata": {},
   "outputs": [],
   "source": [
    "cnn_model.compile(optimizer=Adam(), loss='categorical_crossentropy',\n",
    "                  metrics=['accuracy', tf.keras.metrics.Precision(), tf.keras.metrics.Recall()])\n"
   ]
  },
  {
   "cell_type": "code",
   "execution_count": null,
   "metadata": {},
   "outputs": [],
   "source": [
    "history_cnn = cnn_model.fit(train_generator, epochs=20, validation_data=val_generator)"
   ]
  },
  {
   "cell_type": "code",
   "execution_count": null,
   "metadata": {},
   "outputs": [],
   "source": [
    "def plot_history(history):\n",
    "    acc = history.history['accuracy']\n",
    "    val_acc = history.history['val_accuracy']\n",
    "    loss = history.history['loss']\n",
    "    val_loss = history.history['val_loss']\n",
    "    epochs = range(len(acc))\n",
    "\n",
    "    plt.figure(figsize=(14, 5))\n",
    "    plt.subplot(1, 2, 1)\n",
    "    plt.plot(epochs, acc, label='Training accuracy')\n",
    "    plt.plot(epochs, val_acc, label='Validation accuracy')\n",
    "    plt.title('Training and Validation Accuracy')\n",
    "    plt.legend()\n",
    "\n",
    "    plt.subplot(1, 2, 2)\n",
    "    plt.plot(epochs, loss, label='Training loss')\n",
    "    plt.plot(epochs, val_loss, label='Validation loss')\n",
    "    plt.title('Training and Validation Loss')\n",
    "    plt.legend()"
   ]
  },
  {
   "cell_type": "code",
   "execution_count": null,
   "metadata": {},
   "outputs": [],
   "source": [
    "test_loss_tl, test_acc_tl, test_precision_tl, test_recall_tl = cnn_model.evaluate(test_generator)\n",
    "print(f'Test Loss: {test_loss_tl:.4f}')\n",
    "print(f'Test Accuracy: {test_acc_tl:.4f}')\n",
    "print(f'Test Precision: {test_precision_tl:.4f}')\n",
    "print(f'Test Recall: {test_recall_tl:.4f}')\n"
   ]
  },
  {
   "cell_type": "code",
   "execution_count": null,
   "metadata": {},
   "outputs": [],
   "source": [
    "##transfer learning"
   ]
  },
  {
   "cell_type": "code",
   "execution_count": null,
   "metadata": {},
   "outputs": [],
   "source": [
    "from tensorflow.keras.applications import MobileNetV2\n",
    "from tensorflow.keras.layers import Dropout, BatchNormalization"
   ]
  },
  {
   "cell_type": "code",
   "execution_count": null,
   "metadata": {},
   "outputs": [],
   "source": [
    "train_datagen_tl = ImageDataGenerator(rescale=1./255, validation_split=0.2)\n",
    "test_datagen_tl = ImageDataGenerator(rescale=1./255)"
   ]
  },
  {
   "cell_type": "code",
   "execution_count": null,
   "metadata": {},
   "outputs": [],
   "source": [
    "train_generator_tl = train_datagen_tl.flow_from_directory(train_dir, target_size=(128, 128),\n",
    "                                                          batch_size=32, class_mode='categorical',\n",
    "                                                          subset='training', shuffle=True, seed=1)\n",
    "val_generator_tl = train_datagen_tl.flow_from_directory(train_dir, target_size=(128, 128),\n",
    "                                                        batch_size=32, class_mode='categorical',\n",
    "                                                        subset='validation', shuffle=True, seed=1)\n",
    "test_generator_tl = test_datagen_tl.flow_from_directory(test_dir, target_size=(128, 128),\n",
    "                                                        batch_size=32, class_mode='categorical',\n",
    "                                                        shuffle=False)"
   ]
  },
  {
   "cell_type": "code",
   "execution_count": null,
   "metadata": {},
   "outputs": [],
   "source": [
    "# 2.5: Build the Transfer Learning Model\n",
    "base_model = MobileNetV2(input_shape=(128, 128, 3), include_top=False, weights='imagenet')\n",
    "base_model.trainable = False  # Freeze the base model"
   ]
  },
  {
   "cell_type": "code",
   "execution_count": null,
   "metadata": {},
   "outputs": [],
   "source": [
    "model_tl = Sequential([\n",
    "    base_model,\n",
    "    GlobalAveragePooling2D(),\n",
    "    Dropout(0.2),\n",
    "    Dense(256, activation='relu'),\n",
    "    BatchNormalization(),\n",
    "    Dropout(0.1),\n",
    "    Dense(128, activation='relu'),\n",
    "    BatchNormalization(),\n",
    "    Dropout(0.1),\n",
    "    Dense(3, activation='softmax')\n",
    "])"
   ]
  },
  {
   "cell_type": "code",
   "execution_count": null,
   "metadata": {},
   "outputs": [],
   "source": [
    "# 2.6: Compile the model\n",
    "model_tl.compile(optimizer=Adam(), loss='categorical_crossentropy',\n",
    "                 metrics=['accuracy', tf.keras.metrics.Precision(), tf.keras.metrics.Recall()])\n"
   ]
  },
  {
   "cell_type": "code",
   "execution_count": null,
   "metadata": {},
   "outputs": [],
   "source": [
    "# 2.7: Train the model with EarlyStopping\n",
    "early_stopping = tf.keras.callbacks.EarlyStopping(monitor='val_loss', patience=5, restore_best_weights=True)\n",
    "history_tl = model_tl.fit(train_generator_tl, epochs=20, validation_data=val_generator_tl, callbacks=[early_stopping])\n"
   ]
  },
  {
   "cell_type": "code",
   "execution_count": null,
   "metadata": {},
   "outputs": [],
   "source": [
    "# 2.8: Evaluate the model on test data\n",
    "test_loss_tl, test_acc_tl, test_precision_tl, test_recall_tl = model_tl.evaluate(test_generator_tl)\n",
    "print(f'Test Loss: {test_loss_tl:.4f}')\n",
    "print(f'Test Accuracy: {test_acc_tl:.4f}')\n",
    "print(f'Test Precision: {test_precision_tl:.4f}')\n",
    "print(f'Test Recall: {test_recall_tl:.4f}')\n",
    "\n",
    "# 2.9: Plot Train vs Validation Loss and Accuracy\n",
    "plot_history(history_tl)"
   ]
  }
 ],
 "metadata": {
  "kernelspec": {
   "display_name": "Python 3",
   "language": "python",
   "name": "python3"
  },
  "language_info": {
   "codemirror_mode": {
    "name": "ipython",
    "version": 3
   },
   "file_extension": ".py",
   "mimetype": "text/x-python",
   "name": "python",
   "nbconvert_exporter": "python",
   "pygments_lexer": "ipython3",
   "version": "3.7.6"
  }
 },
 "nbformat": 4,
 "nbformat_minor": 4
}
